{
  "nbformat": 4,
  "nbformat_minor": 0,
  "metadata": {
    "colab": {
      "name": "machinedetection.ipynb",
      "provenance": [],
      "collapsed_sections": [],
      "authorship_tag": "ABX9TyPqcLefmmtOxSui4ifsCItf"
    },
    "kernelspec": {
      "name": "python3",
      "display_name": "Python 3"
    },
    "language_info": {
      "name": "python"
    }
  },
  "cells": [
    {
      "cell_type": "code",
      "metadata": {
        "id": "doZGwpVkJUYC"
      },
      "source": [
        "# Dependencies to be installed to deploy the site\n",
        "!pip install streamlit -q\n",
        "!pip install pyngrok -q"
      ],
      "execution_count": 2,
      "outputs": []
    },
    {
      "cell_type": "code",
      "metadata": {
        "id": "HAVGBVPiHKR_"
      },
      "source": [
        "# Python file that will run the server\n",
        "%%writefile app.py\n",
        "import streamlit as st\n",
        "import numpy as np\n",
        "import pandas as pd\n",
        "from PIL import Image\n",
        "import torch  \n",
        "import time\n",
        "\n",
        "model = torch.hub.load('ultralytics/yolov5', 'yolov5m')\n",
        "\n",
        "def processImage(image):\n",
        "  predictedImage = model(image)\n",
        "  predictedImage.render()\n",
        "  processedImage = Image.fromarray(predictedImage.imgs[0])\n",
        "  return processedImage\n",
        "\n",
        "st.title('Detect objects anywhere everywhere')\n",
        "st.write(\"Upload an image and see the magic!:zany_face:\")\n",
        "\n",
        "uploadedFile = st.file_uploader(\"UPLOAD IMAGE\", type=['png','jpg','jpeg'])\n",
        "\n",
        "if uploadedFile is not None:\n",
        "    image = Image.open(uploadedFile)\n",
        "    st.image(image, caption='Uploaded Image', use_column_width=True)\n",
        "    startTime = time.time()\n",
        "    prediction = processImage(image)\n",
        "    endTime = time.time()\n",
        "    st.image(prediction, caption='Image With Objects Detected', use_column_width=True)\n",
        "    duration = round(endTime - startTime, 4)\n",
        "    st.write('Prediction time taken:', duration, 'seconds')\n"
      ],
      "execution_count": null,
      "outputs": []
    },
    {
      "cell_type": "code",
      "metadata": {
        "id": "O_7U0r8YW9m9"
      },
      "source": [
        "# Authentication code taken from ngrok site \n",
        "# create a free account to obtain a personal authtoken\n",
        "!ngrok authtoken XXXXXX"
      ],
      "execution_count": null,
      "outputs": []
    },
    {
      "cell_type": "code",
      "metadata": {
        "id": "kILO3TBpUUbr"
      },
      "source": [
        "# Additional import to deploy site\n",
        "from pyngrok import ngrok"
      ],
      "execution_count": 19,
      "outputs": []
    },
    {
      "cell_type": "code",
      "metadata": {
        "id": "TDsI75aiIAzV"
      },
      "source": [
        "# Run the web app on streamlit\n",
        "!streamlit run --server.port 80 app.py&>/dev/null&"
      ],
      "execution_count": 95,
      "outputs": []
    },
    {
      "cell_type": "code",
      "metadata": {
        "id": "NTBAImSNUgJ6"
      },
      "source": [
        "# Used for checking if the streamlit is running\n",
        "!pgrep streamlit"
      ],
      "execution_count": null,
      "outputs": []
    },
    {
      "cell_type": "code",
      "metadata": {
        "id": "FdOZnl3NIq3_"
      },
      "source": [
        "# Setup a tunnel to the streamlit port 80 to deploy the web app\n",
        "# Ignore any warnings that may appear, run the next cell \n",
        "public_url = ngrok.connect(port='80')"
      ],
      "execution_count": null,
      "outputs": []
    },
    {
      "cell_type": "code",
      "metadata": {
        "id": "sSBg8HSKYEvO"
      },
      "source": [
        "# access the site URL returned from this cell \"http://....ngrok.io\"\n",
        "public_url"
      ],
      "execution_count": null,
      "outputs": []
    }
  ]
}